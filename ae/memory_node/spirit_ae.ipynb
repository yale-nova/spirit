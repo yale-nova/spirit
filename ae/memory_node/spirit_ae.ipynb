{
 "cells": [
  {
   "cell_type": "markdown",
   "id": "e451d9f2-6135-437d-a417-669da284486b",
   "metadata": {},
   "source": [
    "# Spirit Artifact Evaluation\n",
    "\n",
    "So far, we have installed system dependencies and applications. We also started the remote memory system from the memory node side. \n",
    "\n",
    "Now, we need to do:\n",
    "\n",
    "- Start the remote memory client on the compute node.\n",
    "- Set up an Ansible connection from the memory node to the compute node to orchestrate benchmarks.\n",
    "  - Specifically, we need to generate an SSH key on the memory node and register it on the compute node.\n",
    "- Run the example benchmark with the configured Ansible.\n",
    "\n",
    "**Important: in the menu above, make sure that you select `bash` kernel**\n",
    "- Right top, before the hamburger menu icon (☰), instead of `Python`, it should say `Bash`\n",
    "- You can change the kernel from the top menu: Kernel - Change Kernel - select Bash - click 'Select'\n",
    "\n",
    "To run each cell, you can use a shortcut (e.g., cmd + return on Mac) or use the ▶️ button in the menu bar."
   ]
  },
  {
   "cell_type": "markdown",
   "id": "3988fcca-f2bc-4472-8b04-f55a2bcb3335",
   "metadata": {
    "jp-MarkdownHeadingCollapsed": true
   },
   "source": [
    "## Starting remote memory on the compute node.\n",
    "\n",
    "On the 🖥️compute node, run the following code:\n",
    "```bash\n",
    "cd /opt/spirit/spirit-controller/ae/compute_node\n",
    "./3.setup_memdev.sh\n",
    "```\n",
    "\n",
    "It will take a couple of minutes to set up the remote memory.\n",
    "\n",
    "Expected output:\n",
    "```bash\n",
    "... (omitted)\n",
    "make[2]: Leaving directory '/opt/spirit/spirit-controller/remote_mem/drivers/mind_ram'\n",
    "make[1]: Leaving directory '/opt/spirit/linux-6.13'\n",
    "Using server IP: 10.10.10.221\n",
    "Using RDMA device: mlx5_3\n",
    "Wait for the daemon to map the queue\n",
    "Setting up swapspace version 1, size = 48 GiB (51539603456 bytes)\n",
    "no label, UUID=c931f058-a39a-4356-bda8-c4c4afff0183\n",
    "3\n",
    "50\n",
    "60\n",
    "1\n",
    "99\n",
    "none\n",
    "```"
   ]
  },
  {
   "cell_type": "markdown",
   "id": "bd2710f8-7d04-46cd-9536-58deee0c38a6",
   "metadata": {},
   "source": [
    "## Set up an Ansible connection\n",
    "\n",
    "We need to prepare an ssh key that will be used by Ansible to run experiments. On the 🗂️memory node (i.e., this node running this Jupyter notebook), run the following cell:"
   ]
  },
  {
   "cell_type": "code",
   "execution_count": 1,
   "id": "286e62e0-568f-4c49-b341-f00539d40d6a",
   "metadata": {},
   "outputs": [
    {
     "name": "stdout",
     "output_type": "stream",
     "text": [
      "Generating public/private ed25519 key pair.\n",
      "Your identification has been saved in /users/sslee_cs/.ssh/id_ed25519\n",
      "Your public key has been saved in /users/sslee_cs/.ssh/id_ed25519.pub\n",
      "The key fingerprint is:\n",
      "SHA256:+m2usrxBTS3dgxLPIqvcMQaTPce/CRqmDToaQJVAhDc sslee_cs@node-1.sslee-cs-264691.mind-disagg-pg0.utah.cloudlab.us\n",
      "The key's randomart image is:\n",
      "+--[ED25519 256]--+\n",
      "|++...   .        |\n",
      "|. E. o . * o     |\n",
      "| o .+ + B * o    |\n",
      "|.    o B =   .   |\n",
      "|.   . O S .      |\n",
      "|.  o X * . o     |\n",
      "|. o + *   o      |\n",
      "| o . ..o ..      |\n",
      "|.     ++o+o      |\n",
      "+----[SHA256]-----+\n",
      "Your public key is:\n",
      "ssh-ed25519 AAAAC3NzaC1lZDI1NTE5AAAAIPeG+WPV04lSSQ9gc8mRZGphYxmPhs+mmY9856WsmLNA sslee_cs@node-1.sslee-cs-264691.mind-disagg-pg0.utah.cloudlab.us\n"
     ]
    }
   ],
   "source": [
    "ssh-keygen -t ed25519 -N '' -f ~/.ssh/id_ed25519\n",
    "\n",
    "echo \"Your public key is:\"\n",
    "cat ~/.ssh/id_ed25519.pub"
   ]
  },
  {
   "cell_type": "markdown",
   "id": "0c561301-9de1-4fed-a067-e47929725865",
   "metadata": {},
   "source": [
    "The last line of the cell above should print a generated SSH public key (starting with `ssh-ed25519 `), which needs to be registered on the _compute node_.\n",
    "\n",
    "**Note) You cannot use the prepopulate key above. Please run the cell above to get your key.**\n",
    "\n",
    "On the 🖥️ **compute node**, run the following command to register that key (including ' '):\n",
    "```bash\n",
    "echo 'YOUR_GENERATED_PUBLIC_KEY' >> ~/.ssh/authorized_keys\n",
    "```"
   ]
  },
  {
   "cell_type": "markdown",
   "id": "79dc3c11-8175-44d3-b23f-51e29863df56",
   "metadata": {},
   "source": [
    "After this step, this 🗂️memory node should be able to access the compute node as:"
   ]
  },
  {
   "cell_type": "code",
   "execution_count": 2,
   "id": "be19c82a-57c3-4d98-893d-324b8965e1b3",
   "metadata": {},
   "outputs": [
    {
     "name": "stdout",
     "output_type": "stream",
     "text": [
      "Warning: Permanently added '10.10.10.201' (ECDSA) to the list of known hosts.\n",
      "Connection to 10.10.10.201 closed.\n"
     ]
    }
   ],
   "source": [
    "ssh -o StrictHostKeyChecking=no 10.10.10.201 -t exit"
   ]
  },
  {
   "cell_type": "markdown",
   "id": "29b29064-6c26-4720-928d-4ffc15d9acd3",
   "metadata": {},
   "source": [
    "We use Ansible to orchestrate the benchmark on the compute node. To make it run, you need to update the user name in Ansible's `hosts` file.\n",
    "\n",
    "On the 🗂️**memory node**, update the `hosts` file located at to correctly reflect your user name."
   ]
  },
  {
   "cell_type": "code",
   "execution_count": null,
   "id": "1c1c39f5",
   "metadata": {
    "vscode": {
     "languageId": "plaintext"
    }
   },
   "outputs": [],
   "source": [
    "export SPIRIT_PATH=\"/opt/spirit\"\n",
    "echo \"location of hosts file:\"\n",
    "ls $SPIRIT_PATH/spirit-controller/scripts/disagg/ansible/hosts\n",
    "echo \"user name:\" $(whoami)"
   ]
  },
  {
   "cell_type": "markdown",
   "id": "e0342cf9-25df-44f3-9196-19d0979a4726",
   "metadata": {},
   "source": [
    "_Update the `hosts` file above on the 🗂️memory node. Do not change the IP address but the user name_\n",
    "```\n",
    "[servers]\n",
    "10.10.10.201 ansible_user=<your_user_name>\n",
    "```"
   ]
  },
  {
   "cell_type": "markdown",
   "id": "6e4ac7db",
   "metadata": {},
   "source": [
    "## Running the example benchmark"
   ]
  },
  {
   "cell_type": "markdown",
   "id": "cdb3368c",
   "metadata": {},
   "source": [
    "Once you have updated the file, you can run the following command to start the example benchmark.\n",
    "\n",
    "**Note: Please be patient—this will take approximately 3 to 4 hours to complete.**\n",
    "\n",
    "---\n",
    "\n",
    "#### 1) Testing the environment with static allocation\n",
    "\n",
    "Running the cell below will start the example benchmark using static resource allocation. ⏰ _This step will take approximately 45 ~ 60 minutes to complete._\n",
    "\n",
    "You can check the log (see the following cells) during the experiment to ensure the system is functioning correctly. Since the cell runs only sequentially, you may need to run the code in your ssh session."
   ]
  },
  {
   "cell_type": "code",
   "execution_count": null,
   "id": "75a27cb1",
   "metadata": {
    "scrolled": true,
    "vscode": {
     "languageId": "plaintext"
    }
   },
   "outputs": [
    {
     "name": "stdout",
     "output_type": "stream",
     "text": [
      "Global enforcer config: ../../sample_configs/global_2_apps.json\n",
      "Resource config: configs/2apps/config_8g_5gbps_30sec.json\n",
      "Resource picked config: configs/2apps/config_8g_5gbps_30sec_oracle.json\n",
      "\u001b[1mmkdir -p ../../logs\u001b[0m\n",
      "\u001b[1msudo docker run --rm -it -v $(pwd)/ansible:/ansible -v $(pwd)/../../sample_configs/global_2_apps.json:/config.json -p 8001:8000 -v $HOME/.ssh/id_ed25519:/root/.ssh/id_ed25519:ro -v $(pwd)/../../:/spirit-controller -e ANSIBLE_HOST_KEY_CHECKING=False ansible-docker ansible-playbook -i hosts run_full_env_static.yml -e \"res_alloc_config=configs/2apps/config_8g_5gbps_30sec.json\" -e \"local_config_prefix=sample_configs/local_2_apps_no_mrc_vm\"\u001b[0m\n",
      "\n",
      "PLAY [servers] *****************************************************************\n",
      "\n",
      "TASK [Gathering Facts] *********************************************************\n",
      "\u001b[0;32mok: [10.10.10.201]\u001b[0m\n",
      "\n",
      "TASK [Build the local enforcer] ************************************************\n",
      "\u001b[0;33mchanged: [10.10.10.201]\u001b[0m\n",
      "\n",
      "TASK [Get list of all Docker containers, stop and remove those with prefix 'spirit_'] ***\n",
      "\u001b[0;33mchanged: [10.10.10.201]\u001b[0m\n",
      "\n",
      "TASK [Clean up the previous run (remote)] **************************************\n",
      "\u001b[0;33mchanged: [10.10.10.201]\u001b[0m\n",
      "\n",
      "TASK [Clean up the previous run (localhost)] ***********************************\n",
      "\u001b[0;33mchanged: [10.10.10.201 -> localhost]\u001b[0m\n",
      "\n",
      "TASK [Calculate VM ID based on inventory position] *****************************\n",
      "\u001b[0;32mok: [10.10.10.201]\u001b[0m\n",
      "\n",
      "TASK [Set local config based on VM ID] *****************************************\n",
      "\u001b[0;32mok: [10.10.10.201]\u001b[0m\n",
      "\n",
      "TASK [Debug local config path] *************************************************\n",
      "\u001b[0;32mok: [10.10.10.201] => {\u001b[0m\n",
      "\u001b[0;32m    \"msg\": \"Using local configuration file: sample_configs/local_2_apps_no_mrc_vm0.json (Position in inventory: 0)\"\u001b[0m\n",
      "\u001b[0;32m}\u001b[0m\n",
      "\n",
      "TASK [Run the global enforcer] *************************************************\n",
      "\u001b[0;33mchanged: [10.10.10.201 -> localhost]\u001b[0m\n",
      "\n",
      "TASK [Wait for global enforcer to start] ***************************************\n",
      "Pausing for 5 seconds\n",
      "(ctrl+C then 'C' = continue early, ctrl+C then 'A' = abort)\n",
      "\u001b[0;32mok: [10.10.10.201]\u001b[0m\n",
      "\n",
      "TASK [Run the local enforcer with a timeout script] ****************************\n",
      "\u001b[0;33mchanged: [10.10.10.201]\u001b[0m\n",
      "\n",
      "TASK [Wait for local enforcer to start] ****************************************\n",
      "Pausing for 30 seconds\n",
      "(ctrl+C then 'C' = continue early, ctrl+C then 'A' = abort)\n",
      "\u001b[0;32mok: [10.10.10.201]\u001b[0m\n",
      "\n",
      "TASK [Run the benchmark clients] ***********************************************\n",
      "\u001b[0;33mchanged: [10.10.10.201]\u001b[0m\n",
      "\n",
      "TASK [Print output] ************************************************************\n",
      "\u001b[0;32mok: [10.10.10.201] => {\u001b[0m\n",
      "\u001b[0;32m    \"client_launch_output.stdout_lines\": [\u001b[0m\n",
      "\u001b[0;32m        \"/opt/spirit/spirit-controller\",\u001b[0m\n",
      "\u001b[0;32m        \"1d841509921ee1cd4cadd245fc0741e4fddc382e176279ecab34d39d8e474943\",\u001b[0m\n",
      "\u001b[0;32m        \"Current working directory: /opt/spirit/spirit-controller/local-enforcer/scripts\",\u001b[0m\n",
      "\u001b[0;32m        \"Application argument: sample_configs/local_2_apps_no_mrc_vm0.json\",\u001b[0m\n",
      "\u001b[0;32m        \"Set working directory to: /opt/spirit/spirit-controller/local-enforcer/scripts\",\u001b[0m\n",
      "\u001b[0;32m        \"App ID: 2\",\u001b[0m\n",
      "\u001b[0;32m        \"Config subpath: sample_configs/meta_kvs\",\u001b[0m\n",
      "\u001b[0;32m        \"Docker command: docker run -d --rm -v $(pwd)/target/release/bench-mc-client:/bench-mc-client:ro -v /workload:/workload:ro -v $(pwd)/benchmarks/ycsb:/ycsb:ro -v $(pwd)/sample_configs/meta_kvs:/configs:ro --network host --name spirit_mc_client_2 bench-mc-client-docker\",\u001b[0m\n",
      "\u001b[0;32m        \"Moved to the root: /opt/spirit/spirit-controller\"\u001b[0m\n",
      "\u001b[0;32m    ]\u001b[0m\n",
      "\u001b[0;32m}\u001b[0m\n",
      "\n",
      "TASK [Pin cpus] ****************************************************************\n",
      "\u001b[0;33mchanged: [10.10.10.201]\u001b[0m\n",
      "\n",
      "TASK [Print output] ************************************************************\n",
      "\u001b[0;32mok: [10.10.10.201] => {\u001b[0m\n",
      "\u001b[0;32m    \"pin_cpus_output.stdout_lines\": [\u001b[0m\n",
      "\u001b[0;32m        \"Failed to get the starting CPU index for the second NUMA node\",\u001b[0m\n",
      "\u001b[0;32m        \"Found spirit containers: 1d841509921e\",\u001b[0m\n",
      "\u001b[0;32m        \"fdf83354f886\",\u001b[0m\n",
      "\u001b[0;32m        \"bd0b4b8bf1eb\",\u001b[0m\n",
      "\u001b[0;32m        \"1d841509921e\",\u001b[0m\n",
      "\u001b[0;32m        \"Assigned container container spirit_mc_client_2 (1d841509921e) to CPUs 4-7\",\u001b[0m\n",
      "\u001b[0;32m        \"fdf83354f886\",\u001b[0m\n",
      "\u001b[0;32m        \"Assigned container container spirit_memcached_1 (fdf83354f886) to CPUs 8-11\",\u001b[0m\n",
      "\u001b[0;32m        \"bd0b4b8bf1eb\",\u001b[0m\n",
      "\u001b[0;32m        \"Assigned container container spirit_stream_1 (bd0b4b8bf1eb) to CPUs 12-15\"\u001b[0m\n",
      "\u001b[0;32m    ]\u001b[0m\n",
      "\u001b[0;32m}\u001b[0m\n",
      "\n",
      "TASK [Warm up the application] *************************************************\n",
      "\u001b[0;32mok: [10.10.10.201]\u001b[0m\n",
      "\n",
      "TASK [Run resource allocator] **************************************************\n",
      "\u001b[0;33mchanged: [10.10.10.201 -> localhost]\u001b[0m\n",
      "\n",
      "TASK [Warm up the application] *************************************************\n"
     ]
    }
   ],
   "source": [
    "cd $SPIRIT_PATH/spirit-controller/scripts/disagg\n",
    "./run_eval_2apps_static.sh"
   ]
  },
  {
   "cell_type": "markdown",
   "id": "636623b5",
   "metadata": {},
   "source": [
    "---\n",
    "\n",
    "You can check the progress of the benchmark based on Ansible's output.\n",
    "Or, you can additionally check if the containers on the 🖥️**compute node** are running:\n",
    "\n",
    "```bash\n",
    "docker ps\n",
    "```\n",
    "\n",
    "Expected output\n",
    "(note that `bench-mc-client-docker` starts after `TASK [Run the benchmark clients]`):\n",
    "```\n",
    "CONTAINER ID   IMAGE                    COMMAND                  CREATED          STATUS          PORTS     NAMES\n",
    "3c82dd271383   bench-mc-client-docker   \"./bench-mc-client -…\"   7 seconds ago    Up 6 seconds              spirit_mc_client_2\n",
    "d705fb35d6b3   memcached                \"docker-entrypoint.s…\"   37 seconds ago   Up 36 seconds             spirit_memcached_1\n",
    "53d69399cb6e   stream-docker            \"./stream 12\"            11 minutes ago   Up 11 minutes             spirit_stream_1\n",
    "```"
   ]
  },
  {
   "cell_type": "markdown",
   "id": "9d098b0c-8c9d-44fe-88ba-906be683348c",
   "metadata": {},
   "source": [
    "The evaluation results will be stored in the log directory in the 🗂️**memory node**: `$SPIRIT_PATH/spirit-controller/res_allocation/logs`\n",
    "\n",
    "Note that the logs are available after the resource allocator starts, i.e., after the Ansible script prints:\n",
    "```bash\n",
    "TASK [Run resource allocator] **************************************************\n",
    "```\n",
    "\n",
    "After each experiment finishes, the log files are relocated to the directory according to the resource allocation scheme\n",
    "\n",
    "For instance, for the static allocation, the sub-directory path is:\n",
    "``\n",
    "$SPIRIT_PATH/spirit-controller/res_allocation/logs/mindv2/static\n",
    "``"
   ]
  },
  {
   "cell_type": "code",
   "execution_count": null,
   "id": "9ad5ed74-e91a-4fd3-9843-2bd207159d12",
   "metadata": {},
   "outputs": [],
   "source": [
    "export SPIRIT_PATH=\"/opt/spirit\"\n",
    "ls -al $SPIRIT_PATH/spirit-controller/res_allocation/logs/mindv2/static"
   ]
  },
  {
   "cell_type": "markdown",
   "id": "59d7457c",
   "metadata": {},
   "source": [
    "---\n",
    "\n",
    "#### 2) Testing Spirit and other resource allocation methods.\n",
    "\n",
    "By running the cell below, you will run the example benchmark with Spirit and other resource allocation methods. ⏰ _This step will take approximately 3+ hours to complete._"
   ]
  },
  {
   "cell_type": "code",
   "execution_count": null,
   "id": "fec38215",
   "metadata": {
    "vscode": {
     "languageId": "plaintext"
    }
   },
   "outputs": [],
   "source": [
    "cd $SPIRIT_PATH/spirit-controller/scripts/disagg\n",
    "./run_eval_2apps_others.sh"
   ]
  },
  {
   "cell_type": "markdown",
   "id": "71968b49-1a25-46e7-8150-399e23355e4f",
   "metadata": {},
   "source": [
    "You can check the logs at"
   ]
  },
  {
   "cell_type": "code",
   "execution_count": null,
   "id": "71062865-2000-4d05-8b76-fe3ddf0ad4bd",
   "metadata": {},
   "outputs": [],
   "source": [
    "export SPIRIT_PATH=\"/opt/spirit\"\n",
    "ls -al $SPIRIT_PATH/spirit-controller/res_allocation/logs/mindv2/"
   ]
  },
  {
   "cell_type": "markdown",
   "id": "a4bd0dfb-0839-4300-b11c-2f7773859766",
   "metadata": {},
   "source": [
    "Evaluation results in the papers are mostly depicted by analysing the collected logs.\n",
    "\n",
    "---\n",
    "\n",
    "</br>\n",
    "\n",
    "Contratulations! You have successfully run the example benchmark with Spirit and other resource allocation methods. 🎉\n",
    "\n",
    "See below for how to extend the example benchmark."
   ]
  },
  {
   "cell_type": "markdown",
   "id": "f2b3af26-5285-47ae-ad06-52e5b492ba31",
   "metadata": {},
   "source": [
    "</br>\n",
    "\n",
    "## MISC – Configuration files for experiments with more than two applications\n",
    "\n",
    "---\n",
    "\n",
    "**Note) Note: These scripts have not been tested or intended to be run on CloudLab.** They are provided solely as examples to illustrate how to extend the evaluation.\n",
    "\n",
    "---\n",
    "\n",
    "We provide example configurations that support running more than two applications across up to four compute and memory nodes. However, due to resource limitations, you cannot run more than two applications on this CloudLab instance, as doing so may destabilize the system or even cause it to crash.\n",
    "\n",
    "There are two types of configurations: (i) cluster setup and (ii) resource allocation setup.\n",
    "\n",
    "- Cluster setup configurations in [this directory](https://github.com/yale-nova/spirit/tree/main/sample_configs) define how different applications are launched on the compute node(s).\n",
    "\n",
    "- Resource allocation configurations in [this directory](https://github.com/yale-nova/spirit/tree/main/res_allocation/configs) specify the system-wide resource budgets, such as local DRAM size and network bandwidth.\n",
    "\n",
    "For the resource allocation schemes, [this directory](https://github.com/yale-nova/spirit/tree/main/scripts/disagg/ansible) contains Ansible workbooks that define each experiment run, including which resource allocation algorithm to use.\n",
    "\n",
    "Finally, you can see other scripts that we used to run other experiments in the paper at [this directory](https://github.com/yale-nova/spirit/tree/main/scripts/disagg) (`run_eval_...`):\n",
    "- `run_eval_1app.sh`: runs a single application to measure performance. It can be across different resource allocation (e.g., motivation figures).\n",
    "- `run_eval_2app.sh`: runs two applications to measure performance. It can be across different allocation interval (e.g., Figure 7 in the paper).\n",
    "- `run_eval_4apps_dyn.sh`: runs four applications of which resource sensitivity changes dynamically (e.g., Figure 9 in the paper).\n",
    "- `run_eval_6apps.sh`: runs six applications to measure performance (e.g., Figure 6 in the paper).\n",
    "\n",
    "---\n",
    "\n",
    "We hope you find these configurations useful 🚀. If you have any questions or need further assistance, please feel free to reach out to us 💬."
   ]
  }
 ],
 "metadata": {
  "kernelspec": {
   "display_name": "Bash",
   "language": "bash",
   "name": "bash"
  },
  "language_info": {
   "codemirror_mode": "shell",
   "file_extension": ".sh",
   "mimetype": "text/x-sh",
   "name": "bash"
  }
 },
 "nbformat": 4,
 "nbformat_minor": 5
}
